{
 "cells": [
  {
   "cell_type": "code",
   "execution_count": 1,
   "id": "682e5186-0c2d-4d4e-a342-5f066a4f29c8",
   "metadata": {},
   "outputs": [],
   "source": [
    "import pandas as pd\n",
    "import numpy as np"
   ]
  },
  {
   "cell_type": "markdown",
   "id": "d0b14887-3774-4284-9c16-fb0d2102b4dd",
   "metadata": {},
   "source": [
    "## Reading Dataset"
   ]
  },
  {
   "cell_type": "code",
   "execution_count": 2,
   "id": "d6a0f995-019e-4a94-91fb-59bb03312f62",
   "metadata": {},
   "outputs": [],
   "source": [
    "datasets = pd.read_csv(\"Restaurant_Reviews.tsv\", sep =\"\\t\")"
   ]
  },
  {
   "cell_type": "code",
   "execution_count": 3,
   "id": "5865d296-25a1-424e-be03-01cfff32363f",
   "metadata": {},
   "outputs": [
    {
     "data": {
      "text/html": [
       "<div>\n",
       "<style scoped>\n",
       "    .dataframe tbody tr th:only-of-type {\n",
       "        vertical-align: middle;\n",
       "    }\n",
       "\n",
       "    .dataframe tbody tr th {\n",
       "        vertical-align: top;\n",
       "    }\n",
       "\n",
       "    .dataframe thead th {\n",
       "        text-align: right;\n",
       "    }\n",
       "</style>\n",
       "<table border=\"1\" class=\"dataframe\">\n",
       "  <thead>\n",
       "    <tr style=\"text-align: right;\">\n",
       "      <th></th>\n",
       "      <th>Review</th>\n",
       "      <th>Liked</th>\n",
       "    </tr>\n",
       "  </thead>\n",
       "  <tbody>\n",
       "    <tr>\n",
       "      <th>0</th>\n",
       "      <td>Wow... Loved this place.</td>\n",
       "      <td>1</td>\n",
       "    </tr>\n",
       "    <tr>\n",
       "      <th>1</th>\n",
       "      <td>Crust is not good.</td>\n",
       "      <td>0</td>\n",
       "    </tr>\n",
       "    <tr>\n",
       "      <th>2</th>\n",
       "      <td>Not tasty and the texture was just nasty.</td>\n",
       "      <td>0</td>\n",
       "    </tr>\n",
       "    <tr>\n",
       "      <th>3</th>\n",
       "      <td>Stopped by during the late May bank holiday of...</td>\n",
       "      <td>1</td>\n",
       "    </tr>\n",
       "    <tr>\n",
       "      <th>4</th>\n",
       "      <td>The selection on the menu was great and so wer...</td>\n",
       "      <td>1</td>\n",
       "    </tr>\n",
       "  </tbody>\n",
       "</table>\n",
       "</div>"
      ],
      "text/plain": [
       "                                              Review  Liked\n",
       "0                           Wow... Loved this place.      1\n",
       "1                                 Crust is not good.      0\n",
       "2          Not tasty and the texture was just nasty.      0\n",
       "3  Stopped by during the late May bank holiday of...      1\n",
       "4  The selection on the menu was great and so wer...      1"
      ]
     },
     "execution_count": 3,
     "metadata": {},
     "output_type": "execute_result"
    }
   ],
   "source": [
    "datasets.head()"
   ]
  },
  {
   "cell_type": "code",
   "execution_count": 4,
   "id": "f1e86085-5d9b-48f8-af10-c48cfa41a614",
   "metadata": {},
   "outputs": [
    {
     "data": {
      "text/html": [
       "<div>\n",
       "<style scoped>\n",
       "    .dataframe tbody tr th:only-of-type {\n",
       "        vertical-align: middle;\n",
       "    }\n",
       "\n",
       "    .dataframe tbody tr th {\n",
       "        vertical-align: top;\n",
       "    }\n",
       "\n",
       "    .dataframe thead th {\n",
       "        text-align: right;\n",
       "    }\n",
       "</style>\n",
       "<table border=\"1\" class=\"dataframe\">\n",
       "  <thead>\n",
       "    <tr style=\"text-align: right;\">\n",
       "      <th></th>\n",
       "      <th>Review</th>\n",
       "      <th>Liked</th>\n",
       "    </tr>\n",
       "  </thead>\n",
       "  <tbody>\n",
       "    <tr>\n",
       "      <th>995</th>\n",
       "      <td>I think food should have flavor and texture an...</td>\n",
       "      <td>0</td>\n",
       "    </tr>\n",
       "    <tr>\n",
       "      <th>996</th>\n",
       "      <td>Appetite instantly gone.</td>\n",
       "      <td>0</td>\n",
       "    </tr>\n",
       "    <tr>\n",
       "      <th>997</th>\n",
       "      <td>Overall I was not impressed and would not go b...</td>\n",
       "      <td>0</td>\n",
       "    </tr>\n",
       "    <tr>\n",
       "      <th>998</th>\n",
       "      <td>The whole experience was underwhelming, and I ...</td>\n",
       "      <td>0</td>\n",
       "    </tr>\n",
       "    <tr>\n",
       "      <th>999</th>\n",
       "      <td>Then, as if I hadn't wasted enough of my life ...</td>\n",
       "      <td>0</td>\n",
       "    </tr>\n",
       "  </tbody>\n",
       "</table>\n",
       "</div>"
      ],
      "text/plain": [
       "                                                Review  Liked\n",
       "995  I think food should have flavor and texture an...      0\n",
       "996                           Appetite instantly gone.      0\n",
       "997  Overall I was not impressed and would not go b...      0\n",
       "998  The whole experience was underwhelming, and I ...      0\n",
       "999  Then, as if I hadn't wasted enough of my life ...      0"
      ]
     },
     "execution_count": 4,
     "metadata": {},
     "output_type": "execute_result"
    }
   ],
   "source": [
    "datasets.tail()"
   ]
  },
  {
   "cell_type": "code",
   "execution_count": 5,
   "id": "8a2688ff-818d-4605-9bf9-711531f3f168",
   "metadata": {},
   "outputs": [
    {
     "data": {
      "text/plain": [
       "Index(['Review', 'Liked'], dtype='object')"
      ]
     },
     "execution_count": 5,
     "metadata": {},
     "output_type": "execute_result"
    }
   ],
   "source": [
    "datasets.columns"
   ]
  },
  {
   "cell_type": "code",
   "execution_count": 6,
   "id": "c1b73ff0-d371-4a23-9346-4a2b0a3da547",
   "metadata": {},
   "outputs": [
    {
     "name": "stdout",
     "output_type": "stream",
     "text": [
      "<class 'pandas.core.frame.DataFrame'>\n",
      "RangeIndex: 1000 entries, 0 to 999\n",
      "Data columns (total 2 columns):\n",
      " #   Column  Non-Null Count  Dtype \n",
      "---  ------  --------------  ----- \n",
      " 0   Review  1000 non-null   object\n",
      " 1   Liked   1000 non-null   int64 \n",
      "dtypes: int64(1), object(1)\n",
      "memory usage: 15.8+ KB\n"
     ]
    }
   ],
   "source": [
    "datasets.info()\n"
   ]
  },
  {
   "cell_type": "code",
   "execution_count": 7,
   "id": "46e5a647-4641-4c8f-ba82-2470de30dae1",
   "metadata": {},
   "outputs": [
    {
     "data": {
      "text/plain": [
       "'\\nif there is any null value then \\n# datasets.dropna()\\n#datasets.isnull()\\nare used to remove those null value\\n'"
      ]
     },
     "execution_count": 7,
     "metadata": {},
     "output_type": "execute_result"
    }
   ],
   "source": [
    "\"\"\"\n",
    "if there is any null value then \n",
    "# datasets.dropna()\n",
    "#datasets.isnull()\n",
    "are used to remove those null value\n",
    "\"\"\""
   ]
  },
  {
   "cell_type": "code",
   "execution_count": 8,
   "id": "7bf7edb2-252b-4a02-ac37-56ae46a762ed",
   "metadata": {},
   "outputs": [
    {
     "data": {
      "text/html": [
       "<div>\n",
       "<style scoped>\n",
       "    .dataframe tbody tr th:only-of-type {\n",
       "        vertical-align: middle;\n",
       "    }\n",
       "\n",
       "    .dataframe tbody tr th {\n",
       "        vertical-align: top;\n",
       "    }\n",
       "\n",
       "    .dataframe thead th {\n",
       "        text-align: right;\n",
       "    }\n",
       "</style>\n",
       "<table border=\"1\" class=\"dataframe\">\n",
       "  <thead>\n",
       "    <tr style=\"text-align: right;\">\n",
       "      <th></th>\n",
       "      <th>Liked</th>\n",
       "    </tr>\n",
       "  </thead>\n",
       "  <tbody>\n",
       "    <tr>\n",
       "      <th>count</th>\n",
       "      <td>1000.00000</td>\n",
       "    </tr>\n",
       "    <tr>\n",
       "      <th>mean</th>\n",
       "      <td>0.50000</td>\n",
       "    </tr>\n",
       "    <tr>\n",
       "      <th>std</th>\n",
       "      <td>0.50025</td>\n",
       "    </tr>\n",
       "    <tr>\n",
       "      <th>min</th>\n",
       "      <td>0.00000</td>\n",
       "    </tr>\n",
       "    <tr>\n",
       "      <th>25%</th>\n",
       "      <td>0.00000</td>\n",
       "    </tr>\n",
       "    <tr>\n",
       "      <th>50%</th>\n",
       "      <td>0.50000</td>\n",
       "    </tr>\n",
       "    <tr>\n",
       "      <th>75%</th>\n",
       "      <td>1.00000</td>\n",
       "    </tr>\n",
       "    <tr>\n",
       "      <th>max</th>\n",
       "      <td>1.00000</td>\n",
       "    </tr>\n",
       "  </tbody>\n",
       "</table>\n",
       "</div>"
      ],
      "text/plain": [
       "            Liked\n",
       "count  1000.00000\n",
       "mean      0.50000\n",
       "std       0.50025\n",
       "min       0.00000\n",
       "25%       0.00000\n",
       "50%       0.50000\n",
       "75%       1.00000\n",
       "max       1.00000"
      ]
     },
     "execution_count": 8,
     "metadata": {},
     "output_type": "execute_result"
    }
   ],
   "source": [
    "datasets.describe()"
   ]
  },
  {
   "cell_type": "markdown",
   "id": "fab83cac-0a46-42c0-abb0-11d75dc603aa",
   "metadata": {},
   "source": [
    "## Data Preprocessing"
   ]
  },
  {
   "cell_type": "code",
   "execution_count": 9,
   "id": "c31f7702-f51c-4e00-88b0-d7d686a86df8",
   "metadata": {},
   "outputs": [
    {
     "name": "stderr",
     "output_type": "stream",
     "text": [
      "[nltk_data] Downloading package stopwords to C:\\Users\\Tech\n",
      "[nltk_data]     Land\\AppData\\Roaming\\nltk_data...\n",
      "[nltk_data]   Package stopwords is already up-to-date!\n"
     ]
    }
   ],
   "source": [
    "import nltk\n",
    "import re\n",
    "nltk.download(\"stopwords\")\n",
    "from nltk.corpus import stopwords\n",
    "from nltk.stem.porter import PorterStemmer"
   ]
  },
  {
   "cell_type": "code",
   "execution_count": 10,
   "id": "4f926635-a280-4476-bdc7-b5f0caaec43e",
   "metadata": {},
   "outputs": [],
   "source": [
    "corpus = [] #Empty list\n",
    "for i in range(0, 1000):\n",
    "    review = re.sub(pattern='[^a-zA-Z]', repl=\" \", string=datasets['Review'][i])\n",
    "    \n",
    "    review = review.lower()\n",
    "    \n",
    "    review_words = review.split()#tokenization\n",
    "    review_words = [word for word in review_words if not word in set(stopwords.words(\"english\"))]\n",
    "    \n",
    "    ps = PorterStemmer()\n",
    "    review = [ps.stem(word) for word in review_words]\n",
    "    \n",
    "    review = ' '.join(review)\n",
    "    \n",
    "    corpus.append(review)"
   ]
  },
  {
   "cell_type": "code",
   "execution_count": 11,
   "id": "f745baf5-9722-48e7-8b07-4c072d2114ba",
   "metadata": {},
   "outputs": [
    {
     "data": {
      "text/plain": [
       "['wow love place',\n",
       " 'crust good',\n",
       " 'tasti textur nasti',\n",
       " 'stop late may bank holiday rick steve recommend love',\n",
       " 'select menu great price']"
      ]
     },
     "execution_count": 11,
     "metadata": {},
     "output_type": "execute_result"
    }
   ],
   "source": [
    "corpus[0:5]"
   ]
  },
  {
   "cell_type": "code",
   "execution_count": 12,
   "id": "7f8e2c6d-0f8c-49c8-8396-ab5e6e5fc64b",
   "metadata": {},
   "outputs": [],
   "source": [
    "from sklearn.feature_extraction.text import CountVectorizer"
   ]
  },
  {
   "cell_type": "code",
   "execution_count": 13,
   "id": "efcfc41d-588f-4b7f-9ce3-df855056f7af",
   "metadata": {},
   "outputs": [],
   "source": [
    "count_vec = CountVectorizer(max_features=1500)"
   ]
  },
  {
   "cell_type": "code",
   "execution_count": 14,
   "id": "b2c7bbd8-1436-46ec-8a61-c1e7b1ce7c94",
   "metadata": {},
   "outputs": [],
   "source": [
    "X = count_vec.fit_transform(corpus).toarray()\n",
    "y = datasets.iloc[:, 1].values \n",
    "#iloc[:,1] means all rows and last column "
   ]
  },
  {
   "cell_type": "code",
   "execution_count": 15,
   "id": "bb02c140-2fa5-4f96-88c6-c9f7ea4d6aa7",
   "metadata": {},
   "outputs": [],
   "source": [
    "from sklearn.model_selection import train_test_split"
   ]
  },
  {
   "cell_type": "code",
   "execution_count": 16,
   "id": "bb703895-1e32-4671-9526-7a78143de7ae",
   "metadata": {},
   "outputs": [],
   "source": [
    "X_train, X_test, y_train, y_test = train_test_split(X,y, test_size=0.2, random_state=0)"
   ]
  },
  {
   "cell_type": "code",
   "execution_count": 17,
   "id": "89768160-3f1d-4b2c-bca1-0949f7ee490a",
   "metadata": {},
   "outputs": [
    {
     "data": {
      "text/plain": [
       "MultinomialNB()"
      ]
     },
     "execution_count": 17,
     "metadata": {},
     "output_type": "execute_result"
    }
   ],
   "source": [
    "from sklearn.naive_bayes import MultinomialNB\n",
    "nb = MultinomialNB()\n",
    "nb.fit(X_train, y_train)"
   ]
  },
  {
   "cell_type": "code",
   "execution_count": 18,
   "id": "01f8fe53-645c-4bb8-9ae9-91585032d3cb",
   "metadata": {},
   "outputs": [],
   "source": [
    "ypredict = nb.predict(X_test)"
   ]
  },
  {
   "cell_type": "code",
   "execution_count": 21,
   "id": "45b4968a-79e7-43d0-a50d-c9ad35d6eb7d",
   "metadata": {},
   "outputs": [],
   "source": [
    "from sklearn.metrics import accuracy_score, precision_score, recall_score"
   ]
  },
  {
   "cell_type": "code",
   "execution_count": 22,
   "id": "7e853fd8-b30d-403d-ac6a-c08f5b48899f",
   "metadata": {},
   "outputs": [
    {
     "name": "stdout",
     "output_type": "stream",
     "text": [
      "0.765\n"
     ]
    }
   ],
   "source": [
    "print(accuracy_score(y_test, ypredict))"
   ]
  },
  {
   "cell_type": "code",
   "execution_count": 23,
   "id": "d5d23288-d66f-4e3d-a456-e319a7699e39",
   "metadata": {},
   "outputs": [
    {
     "name": "stdout",
     "output_type": "stream",
     "text": [
      "0.7641509433962265\n"
     ]
    }
   ],
   "source": [
    "print(precision_score(y_test, ypredict))"
   ]
  },
  {
   "cell_type": "code",
   "execution_count": 24,
   "id": "81d489fe-d2ba-4bfb-b1d6-d136777151d1",
   "metadata": {},
   "outputs": [
    {
     "name": "stdout",
     "output_type": "stream",
     "text": [
      "0.7864077669902912\n"
     ]
    }
   ],
   "source": [
    "print(recall_score(y_test, ypredict))"
   ]
  },
  {
   "cell_type": "code",
   "execution_count": 25,
   "id": "b28da2ce-d962-42fa-828c-0ec510a3ab06",
   "metadata": {},
   "outputs": [
    {
     "name": "stdout",
     "output_type": "stream",
     "text": [
      "0.764\n"
     ]
    }
   ],
   "source": [
    "#printing 3position\n",
    "print(round(precision_score(y_test, ypredict), 3))"
   ]
  },
  {
   "cell_type": "code",
   "execution_count": 26,
   "id": "dc62411b-3381-45f0-8245-2c0ce4f19c84",
   "metadata": {},
   "outputs": [],
   "source": [
    "from sklearn.metrics import confusion_matrix"
   ]
  },
  {
   "cell_type": "code",
   "execution_count": 27,
   "id": "12d3f258-4aa7-4f6c-9260-229dd95d555e",
   "metadata": {},
   "outputs": [],
   "source": [
    "confusion_matrix = confusion_matrix(y_test, ypredict)"
   ]
  },
  {
   "cell_type": "code",
   "execution_count": 28,
   "id": "56f76cb6-9368-48ed-b400-a4b9a4312249",
   "metadata": {},
   "outputs": [
    {
     "data": {
      "text/plain": [
       "array([[72, 25],\n",
       "       [22, 81]], dtype=int64)"
      ]
     },
     "execution_count": 28,
     "metadata": {},
     "output_type": "execute_result"
    }
   ],
   "source": [
    "confusion_matrix"
   ]
  },
  {
   "cell_type": "code",
   "execution_count": 29,
   "id": "9e6d6f52-4a92-445a-bb7f-53cd36eafb63",
   "metadata": {},
   "outputs": [],
   "source": [
    "import matplotlib.pyplot as plt\n",
    "import seaborn as sns\n",
    "%matplotlib inline"
   ]
  },
  {
   "cell_type": "code",
   "execution_count": 30,
   "id": "fb9b99b9-90a8-4467-bba5-42378e29af55",
   "metadata": {},
   "outputs": [
    {
     "data": {
      "image/png": "[encoded data removed]",
      "text/plain": [
       "<Figure size 720x432 with 2 Axes>"
      ]
     },
     "metadata": {
      "needs_background": "light"
     },
     "output_type": "display_data"
    }
   ],
   "source": [
    "plt.figure(figsize=(10,6))\n",
    "sns.heatmap(confusion_matrix, annot = True, cmap =\"YlGnBu\",\n",
    "           xticklabels=[\"Neg\", \"Pos\"],\n",
    "           yticklabels=[\"Neg\", \"Pos\"])\n",
    "plt.xlabel(\"Predict Value\")\n",
    "plt.ylabel(\"Actual Value\")\n",
    "plt.show()"
   ]
  },
  {
   "cell_type": "code",
   "execution_count": 33,
   "id": "c6dc6ec9-73b2-4563-8131-05693e0b94c9",
   "metadata": {},
   "outputs": [
    {
     "name": "stdout",
     "output_type": "stream",
     "text": [
      "0.1 78.0\n",
      "0.2 78.5\n",
      "0.3 78.0\n",
      "0.4 78.0\n",
      "0.5 77.5\n",
      "0.6 77.5\n",
      "0.7 77.5\n",
      "0.8 77.0\n",
      "0.9 76.5\n",
      "1.0 76.5\n",
      "\n",
      "78.5 0.2\n"
     ]
    }
   ],
   "source": [
    "accuracy = 0.0\n",
    "alpha_value  = 0.0\n",
    "\n",
    "for i in np.arange(0.1, 1.1, 0.1):\n",
    "    temp_class = MultinomialNB(alpha=i)\n",
    "    temp_class.fit(X_train, y_train)\n",
    "    temp_ypredict = temp_class.predict(X_test)\n",
    "    score = accuracy_score(y_test, temp_ypredict)\n",
    "    print(round(i,1), round(score*100, 2))\n",
    "    \n",
    "    if score > accuracy:\n",
    "        accuracy = score\n",
    "        alpha_value = i\n",
    "        \n",
    "print()\n",
    "print(round(accuracy*100, 2), round(alpha_value,1))"
   ]
  },
  {
   "cell_type": "code",
   "execution_count": 34,
   "id": "a4adc1e4-a909-48d9-8d40-0d4e1d868e0c",
   "metadata": {},
   "outputs": [
    {
     "data": {
      "text/plain": [
       "MultinomialNB(alpha=0.2)"
      ]
     },
     "execution_count": 34,
     "metadata": {},
     "output_type": "execute_result"
    }
   ],
   "source": [
    "nb_class = MultinomialNB(alpha=0.2)\n",
    "nb_class.fit(X_train, y_train)"
   ]
  },
  {
   "cell_type": "code",
   "execution_count": 35,
   "id": "bb3f126d-baf5-49e0-8f4d-6bacaef17b08",
   "metadata": {},
   "outputs": [],
   "source": [
    "def predict_rev(sample_review):\n",
    "    sample_review = re.sub(pattern='[^a-zA-Z]',repl  = \" \", string = sample_review)\n",
    "    \n",
    "    sample_review = sample_review.lower()\n",
    "    \n",
    "    review_words = sample_review.split()\n",
    "    review_words = [word for word in review_words if not word in set(stopwords.words(\"english\"))]\n",
    "    \n",
    "    ps = PorterStemmer()\n",
    "    review = [ps.stem(word) for word in review_words]\n",
    "    \n",
    "    review = ' '.join(review)\n",
    "    \n",
    "    temp = count_vec.transform([review]).toarray()\n",
    "    \n",
    "    return nb_class.predict(temp)"
   ]
  },
  {
   "cell_type": "code",
   "execution_count": 40,
   "id": "f259bcd7-f534-46a2-bee7-2469165bd476",
   "metadata": {},
   "outputs": [
    {
     "name": "stdout",
     "output_type": "stream",
     "text": [
      "Pos review\n"
     ]
    }
   ],
   "source": [
    "sample_text = \"The food is complete awesome\"\n",
    "\n",
    "if predict_rev(sample_text):\n",
    "    print(\"Pos review\")\n",
    "else:\n",
    "    print(\"Neg review\")"
   ]
  },
  {
   "cell_type": "code",
   "execution_count": 41,
   "id": "0ec04df4-66bb-44aa-bdba-1cbbaa52e2a2",
   "metadata": {},
   "outputs": [
    {
     "name": "stdout",
     "output_type": "stream",
     "text": [
      "Neg review\n"
     ]
    }
   ],
   "source": [
    "sample_text = \"The food is really bad\"\n",
    "\n",
    "if predict_rev(sample_text):\n",
    "    print(\"Pos review\")\n",
    "else:\n",
    "    print(\"Neg review\")"
   ]
  },
  {
   "cell_type": "code",
   "execution_count": null,
   "id": "577fe9e0-bc34-41d0-a5e4-f801d9b5c4b4",
   "metadata": {},
   "outputs": [],
   "source": []
  }
 ],
 "metadata": {
  "kernelspec": {
   "display_name": "Python 3",
   "language": "python",
   "name": "python3"
  },
  "language_info": {
   "codemirror_mode": {
    "name": "ipython",
    "version": 3
   },
   "file_extension": ".py",
   "mimetype": "text/x-python",
   "name": "python",
   "nbconvert_exporter": "python",
   "pygments_lexer": "ipython3",
   "version": "3.9.6"
  }
 },
 "nbformat": 4,
 "nbformat_minor": 5
}

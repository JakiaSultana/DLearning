{
 "cells": [
  {
   "cell_type": "code",
   "execution_count": 1,
   "id": "5808b215-bfd9-4564-96db-5fc465dc868e",
   "metadata": {},
   "outputs": [],
   "source": [
    "#import modules \n",
    "from keras.models import Sequential\n",
    "from keras.layers import Conv2D, MaxPooling2D, Flatten, Dense\n",
    "from keras.preprocessing.image import ImageDataGenerator "
   ]
  },
  {
   "cell_type": "markdown",
   "id": "bdfc0288-dccc-477e-b5ab-778b0931f51d",
   "metadata": {},
   "source": [
    "## Initialize The CNN"
   ]
  },
  {
   "cell_type": "code",
   "execution_count": 2,
   "id": "716102e4-9792-47e9-ac1d-66ad6cc7b715",
   "metadata": {},
   "outputs": [],
   "source": [
    "classifier = Sequential() #Empty Model"
   ]
  },
  {
   "cell_type": "code",
   "execution_count": 3,
   "id": "9c2ded8f-1cbe-49ad-9fab-018c781fd99a",
   "metadata": {},
   "outputs": [],
   "source": [
    "#1st hidden layer\n",
    "classifier.add(Conv2D(32, (3,3), input_shape = (128,128,3), activation = \"relu\"))"
   ]
  },
  {
   "cell_type": "code",
   "execution_count": 4,
   "id": "c3802511-6474-4d81-b409-d28e89de12cf",
   "metadata": {},
   "outputs": [],
   "source": [
    "classifier.add(MaxPooling2D(pool_size  =(2,2)))"
   ]
  },
  {
   "cell_type": "code",
   "execution_count": 5,
   "id": "86104166-9e27-4784-ad6b-15af8618f3bd",
   "metadata": {},
   "outputs": [],
   "source": [
    "# 2nd hidden layer\n",
    "classifier.add(Conv2D(64, (3,3), activation=\"relu\"))"
   ]
  },
  {
   "cell_type": "code",
   "execution_count": 6,
   "id": "2cdd6192-3d3f-45a4-beea-9a13ae89b423",
   "metadata": {},
   "outputs": [],
   "source": [
    "classifier.add(MaxPooling2D(pool_size = (2,2)))"
   ]
  },
  {
   "cell_type": "code",
   "execution_count": 7,
   "id": "7c8df8d6-85b0-4f24-b897-a7d78382480b",
   "metadata": {},
   "outputs": [],
   "source": [
    "#3rd hidden layer\n",
    "classifier.add(Conv2D(128, (3,3), activation = \"relu\"))"
   ]
  },
  {
   "cell_type": "code",
   "execution_count": 8,
   "id": "f29f1145-e1ad-452c-925d-f35972da40f3",
   "metadata": {},
   "outputs": [],
   "source": [
    "classifier.add(MaxPooling2D(pool_size  =(2,2)))"
   ]
  },
  {
   "cell_type": "code",
   "execution_count": 9,
   "id": "1df9f544-9be7-4e14-ab14-1f1bdbb1d2e0",
   "metadata": {},
   "outputs": [],
   "source": [
    "classifier.add(Flatten()) "
   ]
  },
  {
   "cell_type": "markdown",
   "id": "09b016fe-6f90-477e-8ccc-01acc4d51bd7",
   "metadata": {},
   "source": [
    "## Fully connected Layer"
   ]
  },
  {
   "cell_type": "code",
   "execution_count": 10,
   "id": "c2079af7-dbc9-4ca7-91f8-6a2e262c3a1f",
   "metadata": {},
   "outputs": [],
   "source": [
    "classifier.add(Dense(128, activation = \"relu\" ))"
   ]
  },
  {
   "cell_type": "code",
   "execution_count": 11,
   "id": "549a651f-2340-4d50-b1d9-770261a5ab28",
   "metadata": {},
   "outputs": [],
   "source": [
    "classifier.add(Dense(3, activation = \"softmax\"))"
   ]
  },
  {
   "cell_type": "code",
   "execution_count": 12,
   "id": "5a71b9e6-8123-4955-94a0-86b34fd2de01",
   "metadata": {},
   "outputs": [],
   "source": [
    "classifier.compile(optimizer=\"adam\", loss=\"categorical_crossentropy\", metrics=[\"accuracy\"])"
   ]
  },
  {
   "cell_type": "markdown",
   "id": "86a0b4bb-a178-4f70-9224-02c2e1006ff0",
   "metadata": {},
   "source": [
    "## Fitting images with the Model"
   ]
  },
  {
   "cell_type": "code",
   "execution_count": 13,
   "id": "9bea916f-c85a-4898-b025-8864d789bc63",
   "metadata": {},
   "outputs": [],
   "source": [
    "train_datagen = ImageDataGenerator(rescale=1./255,\n",
    "                                   shear_range=0.2,\n",
    "                                   zoom_range=0.2,\n",
    "                                   horizontal_flip=True\n",
    "                                  )"
   ]
  },
  {
   "cell_type": "code",
   "execution_count": 14,
   "id": "df81212f-8a88-4118-9e38-41c9ae541aa9",
   "metadata": {},
   "outputs": [],
   "source": [
    "test_datagen = ImageDataGenerator(rescale= 1./255)"
   ]
  },
  {
   "cell_type": "code",
   "execution_count": 15,
   "id": "c5bc6315-636f-415d-ad79-f877d377da0e",
   "metadata": {},
   "outputs": [
    {
     "name": "stdout",
     "output_type": "stream",
     "text": [
      "Found 2400 images belonging to 3 classes.\n",
      "Found 600 images belonging to 3 classes.\n"
     ]
    }
   ],
   "source": [
    "training_dataset = train_datagen.flow_from_directory(\"dataset/training_set\", target_size = (128,128), batch_size=32, class_mode = \"categorical\")\n",
    "test_dataset  = test_datagen.flow_from_directory(\"dataset/test_set\", target_size = (128,128), batch_size =32, class_mode =\"categorical\" )"
   ]
  },
  {
   "cell_type": "code",
   "execution_count": 16,
   "id": "00d20edd-7740-40a3-904f-fb0594da5bb5",
   "metadata": {},
   "outputs": [
    {
     "name": "stdout",
     "output_type": "stream",
     "text": [
      "Epoch 1/35\n",
      "25/25 [==============================] - 40s 736ms/step - loss: 1.1723 - accuracy: 0.3426 - val_loss: 1.0823 - val_accuracy: 0.3929\n",
      "Epoch 2/35\n",
      "25/25 [==============================] - 18s 706ms/step - loss: 1.0761 - accuracy: 0.3727 - val_loss: 0.9799 - val_accuracy: 0.4955\n",
      "Epoch 3/35\n",
      "25/25 [==============================] - 18s 738ms/step - loss: 0.9403 - accuracy: 0.5135 - val_loss: 0.8539 - val_accuracy: 0.6161\n",
      "Epoch 4/35\n",
      "25/25 [==============================] - 18s 706ms/step - loss: 0.9107 - accuracy: 0.5389 - val_loss: 0.7649 - val_accuracy: 0.6741\n",
      "Epoch 5/35\n",
      "25/25 [==============================] - 18s 708ms/step - loss: 0.8040 - accuracy: 0.6172 - val_loss: 0.8777 - val_accuracy: 0.5670\n",
      "Epoch 6/35\n",
      "25/25 [==============================] - 18s 701ms/step - loss: 0.7707 - accuracy: 0.6479 - val_loss: 0.9357 - val_accuracy: 0.5491\n",
      "Epoch 7/35\n",
      "25/25 [==============================] - 18s 689ms/step - loss: 0.7415 - accuracy: 0.6452 - val_loss: 0.7168 - val_accuracy: 0.6696\n",
      "Epoch 8/35\n",
      "25/25 [==============================] - 18s 705ms/step - loss: 0.7570 - accuracy: 0.6784 - val_loss: 0.7485 - val_accuracy: 0.6473\n",
      "Epoch 9/35\n",
      "25/25 [==============================] - 18s 697ms/step - loss: 0.7424 - accuracy: 0.6618 - val_loss: 0.6646 - val_accuracy: 0.7500\n",
      "Epoch 10/35\n",
      "25/25 [==============================] - 18s 708ms/step - loss: 0.6776 - accuracy: 0.7079 - val_loss: 0.6636 - val_accuracy: 0.7098\n",
      "Epoch 11/35\n",
      "25/25 [==============================] - 18s 714ms/step - loss: 0.6915 - accuracy: 0.6941 - val_loss: 0.9755 - val_accuracy: 0.6518\n",
      "Epoch 12/35\n",
      "25/25 [==============================] - 18s 719ms/step - loss: 0.6325 - accuracy: 0.7267 - val_loss: 0.6375 - val_accuracy: 0.7634\n",
      "Epoch 13/35\n",
      "25/25 [==============================] - 19s 749ms/step - loss: 0.5472 - accuracy: 0.7726 - val_loss: 0.6582 - val_accuracy: 0.7634\n",
      "Epoch 14/35\n",
      "25/25 [==============================] - 19s 758ms/step - loss: 0.6015 - accuracy: 0.7701 - val_loss: 0.6180 - val_accuracy: 0.7545\n",
      "Epoch 15/35\n",
      "25/25 [==============================] - 20s 768ms/step - loss: 0.5974 - accuracy: 0.7665 - val_loss: 0.8324 - val_accuracy: 0.6562\n",
      "Epoch 16/35\n",
      "25/25 [==============================] - 22s 869ms/step - loss: 0.6175 - accuracy: 0.7337 - val_loss: 0.5804 - val_accuracy: 0.7455\n",
      "Epoch 17/35\n",
      "25/25 [==============================] - 21s 863ms/step - loss: 0.5778 - accuracy: 0.7625 - val_loss: 0.5541 - val_accuracy: 0.7857\n",
      "Epoch 18/35\n",
      "25/25 [==============================] - 22s 863ms/step - loss: 0.5862 - accuracy: 0.7577 - val_loss: 0.5302 - val_accuracy: 0.7768\n",
      "Epoch 19/35\n",
      "25/25 [==============================] - 19s 731ms/step - loss: 0.4632 - accuracy: 0.8007 - val_loss: 0.7145 - val_accuracy: 0.7366\n",
      "Epoch 20/35\n",
      "25/25 [==============================] - 18s 726ms/step - loss: 0.4755 - accuracy: 0.8192 - val_loss: 0.5130 - val_accuracy: 0.7902\n",
      "Epoch 21/35\n",
      "25/25 [==============================] - 18s 724ms/step - loss: 0.4962 - accuracy: 0.8180 - val_loss: 0.8568 - val_accuracy: 0.6830\n",
      "Epoch 22/35\n",
      "25/25 [==============================] - 18s 730ms/step - loss: 0.5283 - accuracy: 0.8073 - val_loss: 0.5232 - val_accuracy: 0.7991\n",
      "Epoch 23/35\n",
      "25/25 [==============================] - 18s 721ms/step - loss: 0.4543 - accuracy: 0.8277 - val_loss: 0.4514 - val_accuracy: 0.8438\n",
      "Epoch 24/35\n",
      "25/25 [==============================] - 18s 713ms/step - loss: 0.4569 - accuracy: 0.8225 - val_loss: 0.6049 - val_accuracy: 0.8080\n",
      "Epoch 25/35\n",
      "25/25 [==============================] - 19s 732ms/step - loss: 0.3834 - accuracy: 0.8479 - val_loss: 0.4639 - val_accuracy: 0.8348\n",
      "Epoch 26/35\n",
      "25/25 [==============================] - 18s 731ms/step - loss: 0.4476 - accuracy: 0.8297 - val_loss: 0.5135 - val_accuracy: 0.8259\n",
      "Epoch 27/35\n",
      "25/25 [==============================] - 18s 723ms/step - loss: 0.4633 - accuracy: 0.7996 - val_loss: 0.5905 - val_accuracy: 0.7946\n",
      "Epoch 28/35\n",
      "25/25 [==============================] - 21s 838ms/step - loss: 0.3772 - accuracy: 0.8550 - val_loss: 0.6380 - val_accuracy: 0.8214\n",
      "Epoch 29/35\n",
      "25/25 [==============================] - 19s 763ms/step - loss: 0.4683 - accuracy: 0.8170 - val_loss: 0.4310 - val_accuracy: 0.8571\n",
      "Epoch 30/35\n",
      "25/25 [==============================] - 18s 708ms/step - loss: 0.4005 - accuracy: 0.8386 - val_loss: 0.5385 - val_accuracy: 0.8125\n",
      "Epoch 31/35\n",
      "25/25 [==============================] - 21s 853ms/step - loss: 0.3988 - accuracy: 0.8417 - val_loss: 0.5944 - val_accuracy: 0.7723\n",
      "Epoch 32/35\n",
      "25/25 [==============================] - 21s 839ms/step - loss: 0.4293 - accuracy: 0.8222 - val_loss: 0.4818 - val_accuracy: 0.8438\n",
      "Epoch 33/35\n",
      "25/25 [==============================] - 24s 935ms/step - loss: 0.3860 - accuracy: 0.8492 - val_loss: 0.5182 - val_accuracy: 0.7946\n",
      "Epoch 34/35\n",
      "25/25 [==============================] - 20s 788ms/step - loss: 0.3757 - accuracy: 0.8513 - val_loss: 0.6224 - val_accuracy: 0.7545\n",
      "Epoch 35/35\n",
      "25/25 [==============================] - 18s 704ms/step - loss: 0.3117 - accuracy: 0.8788 - val_loss: 0.5549 - val_accuracy: 0.7812\n"
     ]
    }
   ],
   "source": [
    "history = classifier.fit(training_dataset, steps_per_epoch=800/32, epochs=35, validation_data= test_dataset, validation_steps=200/32)"
   ]
  },
  {
   "cell_type": "code",
   "execution_count": 17,
   "id": "23fba47f-5984-4953-9769-91e04f3485d7",
   "metadata": {},
   "outputs": [],
   "source": [
    "import matplotlib.pyplot as plt"
   ]
  },
  {
   "cell_type": "code",
   "execution_count": 18,
   "id": "aa2b46da-9e5c-42b6-bfb1-28342f8482b6",
   "metadata": {},
   "outputs": [
    {
     "data": {
      "image/png": "[encoded data removed]",
      "text/plain": [
       "<Figure size 432x288 with 1 Axes>"
      ]
     },
     "metadata": {
      "needs_background": "light"
     },
     "output_type": "display_data"
    }
   ],
   "source": [
    "plt.plot(history.history[\"accuracy\"])\n",
    "plt.plot(history.history[\"val_accuracy\"])\n",
    "plt.title(\"Model Accuracy\")\n",
    "plt.xlabel(\"accuracy\")\n",
    "plt.ylabel(\"epoch\")\n",
    "plt.legend(['Train', 'Validation'],loc = \"upper left\")\n",
    "plt.show()"
   ]
  },
  {
   "cell_type": "code",
   "execution_count": 19,
   "id": "88ae1022-4723-4847-a27f-72bdc814e3bf",
   "metadata": {},
   "outputs": [
    {
     "data": {
      "image/png": "[encoded data removed]",
      "text/plain": [
       "<Figure size 432x288 with 1 Axes>"
      ]
     },
     "metadata": {
      "needs_background": "light"
     },
     "output_type": "display_data"
    }
   ],
   "source": [
    "plt.plot(history.history['loss'])\n",
    "plt.plot(history.history['val_loss'])\n",
    "plt.title(\"Model Loss\")\n",
    "plt.xlabel(\"loss\")\n",
    "plt.ylabel(\"epoch\")\n",
    "plt.legend(['Train', 'Validation'], loc = \"upper left\")\n",
    "plt.show()"
   ]
  },
  {
   "cell_type": "code",
   "execution_count": null,
   "id": "659cfd99-1c4a-4733-80d2-0cb0367ed369",
   "metadata": {},
   "outputs": [],
   "source": []
  },
  {
   "cell_type": "code",
   "execution_count": 20,
   "id": "7cb257bd-b5f0-4285-82a5-7465aa01d1b2",
   "metadata": {},
   "outputs": [],
   "source": [
    "import os\n",
    "target_directory = \"dataset/model/\"\n",
    "if not os.path.exists(target_directory):\n",
    "    os.mkdir(target_directory)"
   ]
  },
  {
   "cell_type": "code",
   "execution_count": 21,
   "id": "c1b5084d-9018-4e42-b588-9e669dc123b9",
   "metadata": {},
   "outputs": [],
   "source": [
    "classifier.save(\"dataset/model/model.h5\")\n",
    "classifier.save(\"dataset/model/weights.h5\")"
   ]
  },
  {
   "cell_type": "code",
   "execution_count": 22,
   "id": "43e30051-0355-41a9-9d26-0b1edfc23a90",
   "metadata": {},
   "outputs": [],
   "source": [
    "import numpy as np\n",
    "from keras.preprocessing.image import ImageDataGenerator, load_img, img_to_array\n",
    "from keras.models import Sequential, load_model\n",
    "from PIL import Image, ImageTk\n",
    "from io import BytesIO\n",
    "import requests\n",
    "from tkinter import Tk, Label, Canvas, NW, Entry, Button\n",
    "from keras.preprocessing import image as image_utils"
   ]
  },
  {
   "cell_type": "code",
   "execution_count": 23,
   "id": "c3f1297f-3f7b-412f-9cc6-cff05795d22d",
   "metadata": {},
   "outputs": [],
   "source": [
    "#lOad model\n",
    "image_width, image_height = 128, 128\n",
    "model_path = \"dataset/model/model.h5\"\n",
    "model_weight_path = \"dataset/model/weights.h5\"\n",
    "model = load_model(model_path)\n",
    "model.load_weights(model_weight_path)\n"
   ]
  },
  {
   "cell_type": "code",
   "execution_count": 24,
   "id": "bf2339a6-07b8-44dd-b711-83e2e130401d",
   "metadata": {},
   "outputs": [],
   "source": [
    "url = ''\n",
    "window = Tk()\n",
    "window.title(\"Image Classification\")\n",
    "window.geometry(\"800x600\")\n",
    "lbl = Label(window, text = \"Please Enter the image Url: \", font = (\"Halvetica\", 16))\n",
    "lbl.pack()\n",
    "\n",
    "def Enter():\n",
    "    global url\n",
    "    lbl.configure()\n",
    "    url = (User_input.get())\n",
    "    print(url)\n",
    "    \n",
    "    \n",
    "    response = requests.get(url)\n",
    "    test_image = Image.open(BytesIO(response.content))\n",
    "    put_image = test_image.resize((100, 100))\n",
    "    test_image = test_image.resize((128,128))\n",
    "    \n",
    "    img = ImageTk.PhotoImage(put_image)\n",
    "    pic = Label(image = img)\n",
    "    pic.pack()\n",
    "    pic.image = img\n",
    "    test_image = image_utils.img_to_array(test_image)\n",
    "    test_image = np.expand_dims(test_image, axis = 0)\n",
    "    \n",
    "    result = model.predict_on_batch(test_image)\n",
    "    \n",
    "    if result[0][0] == 1:\n",
    "        ans = \"French Fries\"\n",
    "    elif result[0][1] == 1:\n",
    "        ans = \"pizza\"\n",
    "    elif result[0][2] == 1:\n",
    "        ans = \"samosa\"\n",
    "        \n",
    "    out = Label(window, text = \"Predicted Results: \"+ans, font =(\"Halvetica\", 16))\n",
    "    out.pack()\n",
    "        \n",
    "    \n"
   ]
  },
  {
   "cell_type": "code",
   "execution_count": 25,
   "id": "47fe4eab-c7ee-463f-8cf7-6477fa60f792",
   "metadata": {},
   "outputs": [
    {
     "name": "stdout",
     "output_type": "stream",
     "text": [
      "https://media.istockphoto.com/photos/bunch-of-fried-french-fries-on-a-white-background-closeup-picture-id1130991737\n",
      "https://i1.wp.com/spiceandcolour.com/wp-content/uploads/2020/06/receta-samosas-vegetales-01.jpg?w=1140&ssl=1\n",
      "https://media.istockphoto.com/photos/picking-slice-of-pepperoni-pizza-picture-id1133727757?k=6&m=1133727757&s=612x612&w=0&h=6wLUhTKLTudlkgLXQxdOZIVr6D9zuIcMJhpgTVmOWMo=\n"
     ]
    }
   ],
   "source": [
    "User_input = Entry(width = 100)\n",
    "User_input.pack()\n",
    "button = Button(window, text = \"Detect the image\", font = (\"Halvetica\", 16), command = Enter)\n",
    "button.pack()\n",
    "window.mainloop()"
   ]
  },
  {
   "cell_type": "code",
   "execution_count": null,
   "id": "a03f0846-a74c-4eb0-bff3-c9b451673828",
   "metadata": {},
   "outputs": [],
   "source": []
  },
  {
   "cell_type": "code",
   "execution_count": null,
   "id": "76665457-1d1d-43e6-92b4-7369978d3f24",
   "metadata": {},
   "outputs": [],
   "source": []
  }
 ],
 "metadata": {
  "kernelspec": {
   "display_name": "Python 3",
   "language": "python",
   "name": "python3"
  },
  "language_info": {
   "codemirror_mode": {
    "name": "ipython",
    "version": 3
   },
   "file_extension": ".py",
   "mimetype": "text/x-python",
   "name": "python",
   "nbconvert_exporter": "python",
   "pygments_lexer": "ipython3",
   "version": "3.9.6"
  }
 },
 "nbformat": 4,
 "nbformat_minor": 5
}

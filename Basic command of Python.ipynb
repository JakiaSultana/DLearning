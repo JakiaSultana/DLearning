{
 "cells": [
  {
   "cell_type": "markdown",
   "id": "29fb2a74-16b2-4c1f-b319-296fefb27e3e",
   "metadata": {},
   "source": [
    "### Data Type:\n",
    "1. String\n",
    "2. int\n",
    "3. Flot\n",
    "4. Boolean"
   ]
  },
  {
   "cell_type": "code",
   "execution_count": 4,
   "id": "36fa5b92-8512-4123-b462-d1a8a61d49c9",
   "metadata": {},
   "outputs": [
    {
     "name": "stdout",
     "output_type": "stream",
     "text": [
      "Jakia Sultana\n"
     ]
    }
   ],
   "source": [
    "name = \"Jakia Sultana\"\n",
    "print(name)\n"
   ]
  },
  {
   "cell_type": "code",
   "execution_count": 5,
   "id": "ae572585-4caa-40bf-95ed-accdc4d15ced",
   "metadata": {},
   "outputs": [
    {
     "name": "stdout",
     "output_type": "stream",
     "text": [
      "13\n"
     ]
    }
   ],
   "source": [
    "print(len(name))"
   ]
  },
  {
   "cell_type": "code",
   "execution_count": 6,
   "id": "982c7218-2501-42f9-a182-851f991aae5b",
   "metadata": {},
   "outputs": [
    {
     "data": {
      "text/plain": [
       "'JAKIA SULTANA'"
      ]
     },
     "execution_count": 6,
     "metadata": {},
     "output_type": "execute_result"
    }
   ],
   "source": [
    "name.upper()"
   ]
  },
  {
   "cell_type": "code",
   "execution_count": 7,
   "id": "ad1e028b-b968-43e9-9cec-24edeaab9edd",
   "metadata": {},
   "outputs": [
    {
     "data": {
      "text/plain": [
       "'jakia sultana'"
      ]
     },
     "execution_count": 7,
     "metadata": {},
     "output_type": "execute_result"
    }
   ],
   "source": [
    "name.lower()"
   ]
  },
  {
   "cell_type": "code",
   "execution_count": 8,
   "id": "c07e8a5a-3ca5-4fc3-a177-8ead4da5f625",
   "metadata": {},
   "outputs": [
    {
     "data": {
      "text/plain": [
       "'Jakia Sultana'"
      ]
     },
     "execution_count": 8,
     "metadata": {},
     "output_type": "execute_result"
    }
   ],
   "source": [
    "name.title()"
   ]
  },
  {
   "cell_type": "code",
   "execution_count": 9,
   "id": "66c1563a-67da-4b8d-a71f-9d1dabd2c349",
   "metadata": {},
   "outputs": [
    {
     "name": "stdout",
     "output_type": "stream",
     "text": [
      "Jakia\n"
     ]
    }
   ],
   "source": [
    "print(name[0:5]) #slicing the string, from 0 to 4th index"
   ]
  },
  {
   "cell_type": "code",
   "execution_count": 10,
   "id": "3a9005a4-77a6-44f3-b632-e41b53fabd55",
   "metadata": {},
   "outputs": [
    {
     "data": {
      "text/plain": [
       "str"
      ]
     },
     "execution_count": 10,
     "metadata": {},
     "output_type": "execute_result"
    }
   ],
   "source": [
    "type(name)"
   ]
  },
  {
   "cell_type": "markdown",
   "id": "7a310775-114a-4253-bd11-4673634592c9",
   "metadata": {},
   "source": [
    "### Number\n",
    "1. int\n",
    "2. flot\n",
    "3. complex\n",
    "4. long"
   ]
  },
  {
   "cell_type": "code",
   "execution_count": 13,
   "id": "3220a4e2-1c9e-46a0-8a80-10b970e6f054",
   "metadata": {},
   "outputs": [],
   "source": [
    "int_num= 4\n",
    "float_number = 4.6\n",
    "complex_number = 3.14j # 3.14 real and j is imaginary\n"
   ]
  },
  {
   "cell_type": "code",
   "execution_count": 14,
   "id": "cb4b9ac9-d7b1-44f0-9d4a-a42b85d1c7d4",
   "metadata": {},
   "outputs": [
    {
     "name": "stdout",
     "output_type": "stream",
     "text": [
      "<class 'int'>\n",
      "<class 'float'>\n",
      "<class 'complex'>\n"
     ]
    }
   ],
   "source": [
    "print(type(int_num))\n",
    "print(type(float_number))\n",
    "print(type(complex_number))"
   ]
  },
  {
   "cell_type": "markdown",
   "id": "65e0e8ce-54c0-4b1b-8bf9-ef335a7067db",
   "metadata": {},
   "source": [
    "### List:\n",
    "1. append() to add elememt at the end\n",
    "2. extend()\n",
    "3. index()\n",
    "4. insert()\n",
    "5. pop()\n",
    "6. remove()\n",
    "7. reverse()\n",
    "8. count()\n",
    "9. sort()\n",
    "10. clear()\n",
    "11. replication() # shadow copy \n",
    "12. Element Deletion\n",
    "13. copying"
   ]
  },
  {
   "cell_type": "markdown",
   "id": "49fe0415-0125-451f-a29c-eb1743ba3c08",
   "metadata": {},
   "source": [
    "### append()"
   ]
  },
  {
   "cell_type": "code",
   "execution_count": 15,
   "id": "8f9c99dd-644d-41e0-b238-42a16788a3d5",
   "metadata": {},
   "outputs": [],
   "source": [
    "list1 = [1,2,3,4,5,6] # creating a list\n"
   ]
  },
  {
   "cell_type": "code",
   "execution_count": 16,
   "id": "95d94edc-78c2-4394-bb00-d17b4a8f1444",
   "metadata": {},
   "outputs": [
    {
     "name": "stdout",
     "output_type": "stream",
     "text": [
      "[1, 2, 3, 4, 5, 6, 10]\n"
     ]
    }
   ],
   "source": [
    "list1.append(10)\n",
    "print(list1)"
   ]
  },
  {
   "cell_type": "code",
   "execution_count": 17,
   "id": "c12c48ee-e2ea-4a99-b61a-e1899ea5f31d",
   "metadata": {},
   "outputs": [],
   "source": [
    "duplicate_list = [11,12,13]\n",
    "list1.append(duplicate_list)"
   ]
  },
  {
   "cell_type": "code",
   "execution_count": 19,
   "id": "e587a931-dc52-4111-bb2d-9cba122ecdae",
   "metadata": {},
   "outputs": [
    {
     "name": "stdout",
     "output_type": "stream",
     "text": [
      "[1, 2, 3, 4, 5, 6, 10, [11, 12, 13]]\n"
     ]
    }
   ],
   "source": [
    "print(list1) # list will be nested"
   ]
  },
  {
   "cell_type": "code",
   "execution_count": 20,
   "id": "9bafc0a2-8d8a-4ccf-a9f7-10c653a526b5",
   "metadata": {},
   "outputs": [
    {
     "name": "stdout",
     "output_type": "stream",
     "text": [
      "[1, 2, 3, 4, 5, 6, 10, [11, 12, 13], 'Numbers']\n"
     ]
    }
   ],
   "source": [
    "name = \"Numbers\"\n",
    "list1.append(name)\n",
    "print(list1)"
   ]
  },
  {
   "cell_type": "code",
   "execution_count": 21,
   "id": "aa49533f-d6a9-4ccc-8506-40d463e7d0cd",
   "metadata": {},
   "outputs": [
    {
     "name": "stdout",
     "output_type": "stream",
     "text": [
      "[11, 12, 13]\n"
     ]
    }
   ],
   "source": [
    "print(list1[7])"
   ]
  },
  {
   "cell_type": "code",
   "execution_count": 24,
   "id": "9053e28a-5095-451d-9ffd-71cba874cd2b",
   "metadata": {},
   "outputs": [
    {
     "name": "stdout",
     "output_type": "stream",
     "text": [
      "[0, 3, 3, 6, 6, 9, 9, 12, 12, 15]\n"
     ]
    }
   ],
   "source": [
    "a = [] # blank list\n",
    "for i in range(1, 11):\n",
    "    a.append(i//2*3)\n",
    "print(a)\n",
    "    \n",
    "    "
   ]
  },
  {
   "cell_type": "markdown",
   "id": "31096f3a-4565-48db-ba48-a0b7b4e341e3",
   "metadata": {},
   "source": [
    "### Extend()"
   ]
  },
  {
   "cell_type": "code",
   "execution_count": 27,
   "id": "464fa73a-f560-43b1-9bcb-021a98ab3da5",
   "metadata": {},
   "outputs": [
    {
     "data": {
      "text/plain": [
       "[1, 2, 3, 4, 5, 6, 7, 8, 9, 10, 0, 3, 3, 6, 6, 9, 9, 12, 12, 15]"
      ]
     },
     "execution_count": 27,
     "metadata": {},
     "output_type": "execute_result"
    }
   ],
   "source": [
    "list1 = [1, 2, 3, 4, 5, 6, 7, 8, 9, 10]\n",
    "extra_list = [0, 3, 3, 6, 6, 9, 9, 12, 12, 15]\n",
    "\n",
    "list1.extend(extra_list)\n",
    "list1 # alternative of print(list1)"
   ]
  },
  {
   "cell_type": "code",
   "execution_count": 28,
   "id": "7f05ce62-8158-4313-acd3-a540be381466",
   "metadata": {},
   "outputs": [
    {
     "name": "stdout",
     "output_type": "stream",
     "text": [
      "[1, 2, 3, 4, 5, 6, 7, 8, 9, 10, 0, 3, 3, 6, 6, 9, 9, 12, 12, 15, 33, 34, 35, 36, 37, 38, 39, 40, 41, 42, 43]\n"
     ]
    }
   ],
   "source": [
    "list1.extend(range(33,44))\n",
    "print(list1)"
   ]
  },
  {
   "cell_type": "markdown",
   "id": "9fab34e7-c5d7-415d-b66d-ad84fc7558f2",
   "metadata": {},
   "source": [
    "### index()"
   ]
  },
  {
   "cell_type": "code",
   "execution_count": 37,
   "id": "7386c383-4986-48e7-8105-0cee8e173040",
   "metadata": {},
   "outputs": [
    {
     "data": {
      "text/plain": [
       "20"
      ]
     },
     "execution_count": 37,
     "metadata": {},
     "output_type": "execute_result"
    }
   ],
   "source": [
    "\n",
    "list1.index(33)# returns the index of 33\n"
   ]
  },
  {
   "cell_type": "code",
   "execution_count": 33,
   "id": "766c9a4a-4458-4fc6-b148-3ab3d14726fd",
   "metadata": {},
   "outputs": [
    {
     "data": {
      "text/plain": [
       "3"
      ]
     },
     "execution_count": 33,
     "metadata": {},
     "output_type": "execute_result"
    }
   ],
   "source": [
    "list1[2] # it will return a value in index 2"
   ]
  },
  {
   "cell_type": "markdown",
   "id": "8c4ac1a5-12f8-4853-a0eb-5a029593d170",
   "metadata": {},
   "source": [
    "### Insert()"
   ]
  },
  {
   "cell_type": "code",
   "execution_count": 42,
   "id": "b6ed8aab-4ef9-4ec8-b261-d85ef74572fe",
   "metadata": {},
   "outputs": [],
   "source": [
    "list1.insert(5,122) #(index, value)means insert value to index"
   ]
  },
  {
   "cell_type": "code",
   "execution_count": 41,
   "id": "0f3b684a-c8c1-4ad1-b620-130635457c0f",
   "metadata": {},
   "outputs": [
    {
     "name": "stdout",
     "output_type": "stream",
     "text": [
      "[1, 2, 3, 4, 5, 6, 7, 8, 9, 10, 0, 3, 3, 6, 6, 9, 9, 12, 12, 15, 33, 34, 35, 36, 37, 38, 39, 40, 41, 42, 43, 10, 10]\n"
     ]
    }
   ],
   "source": [
    "print(list1)"
   ]
  },
  {
   "cell_type": "markdown",
   "id": "a201d77a-d4e7-485a-8ead-ea81830626a4",
   "metadata": {},
   "source": [
    "### pop()"
   ]
  },
  {
   "cell_type": "code",
   "execution_count": 45,
   "id": "4112cb2f-beed-4a0d-ad7d-ded0702ba201",
   "metadata": {},
   "outputs": [
    {
     "name": "stdout",
     "output_type": "stream",
     "text": [
      "[1, 2, 3, 4, 5, 7, 8, 9, 10, 0, 3, 3, 6, 6, 9, 9, 12, 12, 15, 33, 34, 35, 36, 37, 38, 39, 40, 41, 42, 43, 10]\n"
     ]
    }
   ],
   "source": [
    "list1.pop(5) # parameter index\n",
    "# removed the last value\n",
    "print(list1)"
   ]
  },
  {
   "cell_type": "markdown",
   "id": "7743fb8f-f24c-4312-b30d-698697246e6e",
   "metadata": {},
   "source": [
    "### remove()"
   ]
  },
  {
   "cell_type": "code",
   "execution_count": 46,
   "id": "96193e7a-0ce7-4bab-ba1a-a9f5206dd425",
   "metadata": {},
   "outputs": [],
   "source": [
    "list1.remove(33) #parameter value\n",
    "# remove must have value\n"
   ]
  },
  {
   "cell_type": "code",
   "execution_count": 47,
   "id": "7f8c9a7f-4d37-4c8a-9e1a-811528a94b0a",
   "metadata": {},
   "outputs": [
    {
     "name": "stdout",
     "output_type": "stream",
     "text": [
      "[1, 2, 3, 4, 5, 7, 8, 9, 10, 0, 3, 3, 6, 6, 9, 9, 12, 12, 15, 34, 35, 36, 37, 38, 39, 40, 41, 42, 43, 10]\n"
     ]
    }
   ],
   "source": [
    "print(list1)"
   ]
  },
  {
   "cell_type": "markdown",
   "id": "13f8d2dc-0cb1-43fb-95f5-7f63d7a59aa8",
   "metadata": {},
   "source": [
    "### reverse()"
   ]
  },
  {
   "cell_type": "code",
   "execution_count": 48,
   "id": "545dbfa8-40b9-4004-80d3-5b1eb44e1e07",
   "metadata": {},
   "outputs": [
    {
     "name": "stdout",
     "output_type": "stream",
     "text": [
      "[10, 43, 42, 41, 40, 39, 38, 37, 36, 35, 34, 15, 12, 12, 9, 9, 6, 6, 3, 3, 0, 10, 9, 8, 7, 5, 4, 3, 2, 1]\n"
     ]
    }
   ],
   "source": [
    "list1.reverse()\n",
    "print(list1)"
   ]
  },
  {
   "cell_type": "markdown",
   "id": "e20a420b-f690-47d2-9eeb-6d5ab758e4c4",
   "metadata": {},
   "source": [
    "### sort()"
   ]
  },
  {
   "cell_type": "code",
   "execution_count": 49,
   "id": "29f5800d-5edc-494a-8d3e-4b0e64597c0a",
   "metadata": {},
   "outputs": [],
   "source": [
    "list1.sort()"
   ]
  },
  {
   "cell_type": "code",
   "execution_count": 50,
   "id": "c8e59296-ec50-4bf9-be33-1c4514a36c4b",
   "metadata": {},
   "outputs": [
    {
     "name": "stdout",
     "output_type": "stream",
     "text": [
      "[0, 1, 2, 3, 3, 3, 4, 5, 6, 6, 7, 8, 9, 9, 9, 10, 10, 12, 12, 15, 34, 35, 36, 37, 38, 39, 40, 41, 42, 43]\n"
     ]
    }
   ],
   "source": [
    "print(list1)"
   ]
  },
  {
   "cell_type": "code",
   "execution_count": 51,
   "id": "05eb79b5-a65a-4f0e-9473-e1c361f07959",
   "metadata": {},
   "outputs": [
    {
     "name": "stdout",
     "output_type": "stream",
     "text": [
      "[43, 42, 41, 40, 39, 38, 37, 36, 35, 34, 15, 12, 12, 10, 10, 9, 9, 9, 8, 7, 6, 6, 5, 4, 3, 3, 3, 2, 1, 0]\n"
     ]
    }
   ],
   "source": [
    "list1.sort(reverse = True)\n",
    "print(list1)"
   ]
  },
  {
   "cell_type": "code",
   "execution_count": 54,
   "id": "dc1acb7c-bb99-4126-ae42-71fab6a2ef74",
   "metadata": {},
   "outputs": [],
   "source": [
    "import datetime\n",
    "class Person(object):\n",
    "    def __init__(self, name, class_roll, height):\n",
    "        self.name = name\n",
    "        self.class_roll = class_roll\n",
    "        self.height = height\n",
    "        \n",
    "    def __repr__(self):\n",
    "        return self.name\n",
    "person_list = [Person(\"Jenny\", 123, 130),\n",
    "              Person(\"Toma\", 345, 123),\n",
    "              Person(\"sultana\", 123,34)]\n",
    "person_list.sort(key = lambda item : item.name)\n",
    "\n",
    "\n",
    "        "
   ]
  },
  {
   "cell_type": "code",
   "execution_count": 55,
   "id": "16a5c734-5d4f-441b-ae20-439d4ac664a9",
   "metadata": {},
   "outputs": [
    {
     "data": {
      "text/plain": [
       "[Jenny, Toma, sultana]"
      ]
     },
     "execution_count": 55,
     "metadata": {},
     "output_type": "execute_result"
    }
   ],
   "source": [
    "person_list"
   ]
  },
  {
   "cell_type": "code",
   "execution_count": 56,
   "id": "daaa6c8c-a2c5-480f-bade-1c70f943834c",
   "metadata": {},
   "outputs": [],
   "source": [
    "person_list.sort(key = lambda item: item.name)"
   ]
  },
  {
   "cell_type": "code",
   "execution_count": 57,
   "id": "2efe4592-7b4e-4634-83b7-7daabbcd68c8",
   "metadata": {},
   "outputs": [
    {
     "data": {
      "text/plain": [
       "[Jenny, Toma, sultana]"
      ]
     },
     "execution_count": 57,
     "metadata": {},
     "output_type": "execute_result"
    }
   ],
   "source": [
    "person_list"
   ]
  },
  {
   "cell_type": "markdown",
   "id": "ffbf2ff6-176c-4e15-8903-28de261e05f6",
   "metadata": {},
   "source": [
    "### Tuple()"
   ]
  },
  {
   "cell_type": "code",
   "execution_count": 60,
   "id": "4e903a88-76ac-4de9-b7e4-56a6bfa43800",
   "metadata": {},
   "outputs": [
    {
     "name": "stdout",
     "output_type": "stream",
     "text": [
      "<class 'tuple'>\n"
     ]
    }
   ],
   "source": [
    "tl = (1,2,3,4)\n",
    "print(type(tl))"
   ]
  },
  {
   "cell_type": "code",
   "execution_count": 63,
   "id": "7d240348-17d8-418a-8efb-08b12afe1797",
   "metadata": {},
   "outputs": [
    {
     "name": "stdout",
     "output_type": "stream",
     "text": [
      "Bangladesh\n"
     ]
    }
   ],
   "source": [
    "tl = (\"Bangladesh\")\n",
    "print(tl)"
   ]
  },
  {
   "cell_type": "code",
   "execution_count": 64,
   "id": "377a5690-71cb-45de-8b1c-eb4e51f11198",
   "metadata": {},
   "outputs": [],
   "source": [
    "a = 1 #assignment of variable\n",
    "b = 1, #assignment of tuple"
   ]
  },
  {
   "cell_type": "code",
   "execution_count": 67,
   "id": "42fc6629-de62-4313-ad9d-aa6a495a1918",
   "metadata": {},
   "outputs": [
    {
     "name": "stdout",
     "output_type": "stream",
     "text": [
      "<class 'int'>\n"
     ]
    },
    {
     "data": {
      "text/plain": [
       "tuple"
      ]
     },
     "execution_count": 67,
     "metadata": {},
     "output_type": "execute_result"
    }
   ],
   "source": [
    "print(type(a))\n",
    "type(b)"
   ]
  },
  {
   "cell_type": "markdown",
   "id": "7e63b298-12a1-4330-a671-13f1b915cdd7",
   "metadata": {},
   "source": [
    "### Dictionary"
   ]
  },
  {
   "cell_type": "code",
   "execution_count": 72,
   "id": "73d74e9e-c6a3-4279-a1f0-e889e46a5b10",
   "metadata": {},
   "outputs": [
    {
     "name": "stdout",
     "output_type": "stream",
     "text": [
      "{'key': 'value'}\n",
      "<class 'dict'>\n"
     ]
    }
   ],
   "source": [
    "dictionary = {\"key\": \"value\"}\n",
    "print(dictionary)\n",
    "print(type(dictionary))"
   ]
  },
  {
   "cell_type": "markdown",
   "id": "19b41c83-3c9d-4425-b255-658e45c9f310",
   "metadata": {},
   "source": [
    "### Loop"
   ]
  },
  {
   "cell_type": "code",
   "execution_count": 6,
   "id": "c359157a-c863-423e-af73-283aa16c01bd",
   "metadata": {},
   "outputs": [
    {
     "name": "stdout",
     "output_type": "stream",
     "text": [
      "[1, 2, 3, 4, 5, 6, 7, 8, 9, 10]\n"
     ]
    }
   ],
   "source": [
    "a= [] #empty list\n",
    "for i in range(1,11):\n",
    "    a.append(i)\n",
    "print(a)"
   ]
  },
  {
   "cell_type": "code",
   "execution_count": 10,
   "id": "af4b8933-9d1e-4a3d-a1b3-f27cdd0766de",
   "metadata": {},
   "outputs": [
    {
     "name": "stdout",
     "output_type": "stream",
     "text": [
      "0\n",
      "1\n",
      "2\n",
      "3\n",
      "4\n",
      "5\n",
      "6\n",
      "Break executed\n"
     ]
    }
   ],
   "source": [
    "i = 0\n",
    "while i < 10 :\n",
    "    print(i)\n",
    "    if i == 6:\n",
    "        print(\"Break executed\")\n",
    "        break     \n",
    "    i+=1\n",
    "\n",
    "    "
   ]
  },
  {
   "cell_type": "code",
   "execution_count": null,
   "id": "05c22026-1937-4927-a355-28cb199e4bfc",
   "metadata": {},
   "outputs": [],
   "source": []
  },
  {
   "cell_type": "code",
   "execution_count": null,
   "id": "b0145872-343f-408a-b19a-e85d555f9f89",
   "metadata": {},
   "outputs": [],
   "source": []
  }
 ],
 "metadata": {
  "kernelspec": {
   "display_name": "Python 3",
   "language": "python",
   "name": "python3"
  },
  "language_info": {
   "codemirror_mode": {
    "name": "ipython",
    "version": 3
   },
   "file_extension": ".py",
   "mimetype": "text/x-python",
   "name": "python",
   "nbconvert_exporter": "python",
   "pygments_lexer": "ipython3",
   "version": "3.9.6"
  }
 },
 "nbformat": 4,
 "nbformat_minor": 5
}

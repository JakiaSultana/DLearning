{
 "cells": [
  {
   "cell_type": "code",
   "execution_count": 10,
   "id": "87a83ee0-ba68-4b4b-bf00-b5ab00397a79",
   "metadata": {},
   "outputs": [],
   "source": [
    "#Import model and datasets load\n",
    "import numpy as np\n",
    "#to igmore all the warnings\n",
    "import warnings\n",
    "warnings.filterwarnings('ignore')\n",
    "\n",
    "#  some scikit_learn functions\n",
    "from sklearn.metrics import accuracy_score\n",
    "from tensorflow.keras.datasets import reuters\n",
    "from tensorflow.keras.preprocessing.sequence import pad_sequences\n",
    "from tensorflow.keras.utils import to_categorical"
   ]
  },
  {
   "cell_type": "code",
   "execution_count": 11,
   "id": "92c61663-9984-4eef-a821-f88e938e0e8a",
   "metadata": {},
   "outputs": [],
   "source": [
    "#parameters\n",
    "num_words = 30000\n",
    "maxlen = 50\n",
    "test_split = 0.2 \n"
   ]
  },
  {
   "cell_type": "code",
   "execution_count": 12,
   "id": "5a0d21b5-a196-4c98-b698-6a13b452bdce",
   "metadata": {},
   "outputs": [],
   "source": [
    "(x_train, y_train),(x_test, y_test) = reuters.load_data(num_words=num_words, test_split= test_split)"
   ]
  },
  {
   "cell_type": "code",
   "execution_count": 13,
   "id": "e7ac8e4c-8a7f-4d43-a63e-21d342373979",
   "metadata": {},
   "outputs": [],
   "source": [
    "x_train = pad_sequences(x_train, padding='post')\n",
    "x_test = pad_sequences(x_test, padding='post')"
   ]
  },
  {
   "cell_type": "code",
   "execution_count": 14,
   "id": "b34a5740-f11d-4347-98ad-d496d6f2cc93",
   "metadata": {},
   "outputs": [],
   "source": [
    "x_train = np.array(x_train).reshape((x_train.shape[0], x_train.shape[1], 1))\n",
    "x_test = np.array(x_test).reshape((x_test.shape[0], x_test.shape[1], 1))"
   ]
  },
  {
   "cell_type": "code",
   "execution_count": 15,
   "id": "fb8d0549-0abb-4516-b7fb-874793a83d3f",
   "metadata": {},
   "outputs": [],
   "source": [
    "y_data = np.concatenate((y_train, y_test))\n",
    "y_data = to_categorical(y_data)"
   ]
  },
  {
   "cell_type": "code",
   "execution_count": 16,
   "id": "5bf90cb8-209f-42fa-82cf-518d4d0a4320",
   "metadata": {},
   "outputs": [],
   "source": [
    "y_train = y_data[:8982]\n",
    "y_test = y_data[8982:]"
   ]
  },
  {
   "cell_type": "code",
   "execution_count": 17,
   "id": "188811d5-df3e-4395-9e14-4eeb4a1084ac",
   "metadata": {},
   "outputs": [
    {
     "name": "stdout",
     "output_type": "stream",
     "text": [
      "(8982, 2376, 1)\n",
      "\n",
      "(2246, 1032, 1)\n",
      "\n",
      "(8982, 46)\n",
      "\n",
      "(2246, 46)\n"
     ]
    }
   ],
   "source": [
    "print(x_train.shape)\n",
    "print()\n",
    "print(x_test.shape)\n",
    "print()\n",
    "print(y_train.shape)\n",
    "print()\n",
    "print(y_test.shape)"
   ]
  },
  {
   "cell_type": "markdown",
   "id": "ee00dda2-b5a2-488f-a707-65b5ad73e90c",
   "metadata": {},
   "source": [
    "## Vanilla RNN"
   ]
  },
  {
   "cell_type": "code",
   "execution_count": 18,
   "id": "5cf84bd0-52b9-4237-8f60-1ee7d20055ca",
   "metadata": {},
   "outputs": [],
   "source": [
    "from tensorflow.keras.models import Sequential\n",
    "from tensorflow.keras.layers import Dense, SimpleRNN, Activation\n",
    "from tensorflow.keras import optimizers\n",
    "from keras.wrappers.scikit_learn import KerasClassifier\n"
   ]
  },
  {
   "cell_type": "code",
   "execution_count": 22,
   "id": "f1b2b5e2-4fbf-46e4-8b1a-128fc6d220a5",
   "metadata": {},
   "outputs": [],
   "source": [
    "def vanilla_RNN():\n",
    "    model = Sequential()\n",
    "    model.add(SimpleRNN(50, input_shape = (49, 1), return_sequences = False))\n",
    "    model.add(Dense(46))\n",
    "    model.add(Activation('softmax'))\n",
    "    \n",
    "    adam_optimizer = optimizers.Adam(learning_rate=0.001)\n",
    "    model.compile(loss = \"categorical_crossentropy\", optimizer= adam_optimizer, metrics=['accuracy'])\n",
    "    \n",
    "    return model"
   ]
  },
  {
   "cell_type": "code",
   "execution_count": 27,
   "id": "05da6c31-48a8-44aa-97df-c2a3531f78d7",
   "metadata": {},
   "outputs": [],
   "source": [
    "model = KerasClassifier(build_fn=vanilla_RNN, epochs = 20, batch_size = 100)"
   ]
  },
  {
   "cell_type": "code",
   "execution_count": 28,
   "id": "dbb1803e-80df-4b9c-bbb7-21f30acd0bfd",
   "metadata": {},
   "outputs": [
    {
     "name": "stdout",
     "output_type": "stream",
     "text": [
      "Epoch 1/20\n",
      "WARNING:tensorflow:Model was constructed with shape (None, 49, 1) for input KerasTensor(type_spec=TensorSpec(shape=(None, 49, 1), dtype=tf.float32, name='simple_rnn_2_input'), name='simple_rnn_2_input', description=\"created by layer 'simple_rnn_2_input'\"), but it was called on an input with incompatible shape (None, 2376, 1).\n",
      "WARNING:tensorflow:Model was constructed with shape (None, 49, 1) for input KerasTensor(type_spec=TensorSpec(shape=(None, 49, 1), dtype=tf.float32, name='simple_rnn_2_input'), name='simple_rnn_2_input', description=\"created by layer 'simple_rnn_2_input'\"), but it was called on an input with incompatible shape (None, 2376, 1).\n",
      "90/90 [==============================] - 76s 837ms/step - loss: 3.0174 - accuracy: 0.2708\n",
      "Epoch 2/20\n",
      "90/90 [==============================] - 75s 833ms/step - loss: 2.4093 - accuracy: 0.3517\n",
      "Epoch 3/20\n",
      "90/90 [==============================] - 75s 833ms/step - loss: 2.4064 - accuracy: 0.3517\n",
      "Epoch 4/20\n",
      "90/90 [==============================] - 74s 817ms/step - loss: 2.4068 - accuracy: 0.3517\n",
      "Epoch 5/20\n",
      "90/90 [==============================] - 75s 839ms/step - loss: 2.4058 - accuracy: 0.3517\n",
      "Epoch 6/20\n",
      "90/90 [==============================] - 76s 846ms/step - loss: 2.4066 - accuracy: 0.3517\n",
      "Epoch 7/20\n",
      "90/90 [==============================] - 76s 840ms/step - loss: 2.4065 - accuracy: 0.3517\n",
      "Epoch 8/20\n",
      "90/90 [==============================] - 76s 848ms/step - loss: 2.4063 - accuracy: 0.3517\n",
      "Epoch 9/20\n",
      "90/90 [==============================] - 76s 840ms/step - loss: 2.4078 - accuracy: 0.3518\n",
      "Epoch 10/20\n",
      "90/90 [==============================] - 75s 831ms/step - loss: 2.4062 - accuracy: 0.3518\n",
      "Epoch 11/20\n",
      "90/90 [==============================] - 76s 843ms/step - loss: 2.4063 - accuracy: 0.3518\n",
      "Epoch 12/20\n",
      "90/90 [==============================] - 73s 814ms/step - loss: 2.4065 - accuracy: 0.3518\n",
      "Epoch 13/20\n",
      "90/90 [==============================] - 71s 789ms/step - loss: 2.4064 - accuracy: 0.3518\n",
      "Epoch 14/20\n",
      "90/90 [==============================] - 74s 824ms/step - loss: 2.4062 - accuracy: 0.3518\n",
      "Epoch 15/20\n",
      "90/90 [==============================] - 69s 770ms/step - loss: 2.4063 - accuracy: 0.3518\n",
      "Epoch 16/20\n",
      "90/90 [==============================] - 48s 534ms/step - loss: 2.4057 - accuracy: 0.3518\n",
      "Epoch 17/20\n",
      "90/90 [==============================] - 49s 543ms/step - loss: 2.4067 - accuracy: 0.3518\n",
      "Epoch 18/20\n",
      "90/90 [==============================] - 50s 556ms/step - loss: 2.4062 - accuracy: 0.3518\n",
      "Epoch 19/20\n",
      "90/90 [==============================] - 57s 632ms/step - loss: 2.4064 - accuracy: 0.3518\n",
      "Epoch 20/20\n",
      "90/90 [==============================] - 54s 598ms/step - loss: 2.4068 - accuracy: 0.3518\n"
     ]
    },
    {
     "data": {
      "text/plain": [
       "<tensorflow.python.keras.callbacks.History at 0x1f8e3fc8f10>"
      ]
     },
     "execution_count": 28,
     "metadata": {},
     "output_type": "execute_result"
    }
   ],
   "source": [
    "model.fit(x_train, y_train)"
   ]
  },
  {
   "cell_type": "code",
   "execution_count": 32,
   "id": "50c31277-d4d1-447c-80dd-4534eb18996a",
   "metadata": {},
   "outputs": [
    {
     "name": "stdout",
     "output_type": "stream",
     "text": [
      "WARNING:tensorflow:Model was constructed with shape (None, 49, 1) for input KerasTensor(type_spec=TensorSpec(shape=(None, 49, 1), dtype=tf.float32, name='simple_rnn_2_input'), name='simple_rnn_2_input', description=\"created by layer 'simple_rnn_2_input'\"), but it was called on an input with incompatible shape (None, 1032, 1).\n"
     ]
    }
   ],
   "source": [
    "y_pred = model.predict(x_test)\n",
    "y_test_ = np.argmax(y_test, axis = 1)"
   ]
  },
  {
   "cell_type": "code",
   "execution_count": 33,
   "id": "ce818bcd-d67f-4560-b933-b43a66f6bbdd",
   "metadata": {},
   "outputs": [
    {
     "name": "stdout",
     "output_type": "stream",
     "text": [
      "Accuracy:  0.3619768477292965\n"
     ]
    }
   ],
   "source": [
    "print(\"Accuracy: \", accuracy_score(y_pred, y_test_))"
   ]
  },
  {
   "cell_type": "markdown",
   "id": "607fa7ee-ca9e-4f3b-b67a-d32c1d76e0cd",
   "metadata": {},
   "source": [
    "## LSTM"
   ]
  },
  {
   "cell_type": "code",
   "execution_count": 34,
   "id": "f1d56b65-a908-410e-9ff5-bf04b627d5aa",
   "metadata": {},
   "outputs": [],
   "source": [
    "from tensorflow.keras.layers import LSTM"
   ]
  },
  {
   "cell_type": "code",
   "execution_count": 42,
   "id": "5fa316f1-3cda-43bb-8dd2-3cdf643e48da",
   "metadata": {},
   "outputs": [],
   "source": [
    "def LSTM_RNN():\n",
    "    model  =Sequential()\n",
    "    model.add(LSTM(50, input_shape = (49,1), return_sequences = False))\n",
    "    model.add(Dense(46))\n",
    "    model.add(Activation('softmax'))\n",
    "    \n",
    "    adam_optimizer = optimizers.Adam(learning_rate = 0.001)\n",
    "    model.compile(loss = \"categorical_crossentropy\", optimizer= adam_optimizer, metrics=['accuracy'])\n",
    "    \n",
    "    return model"
   ]
  },
  {
   "cell_type": "code",
   "execution_count": 43,
   "id": "e8a42165-f57f-43c2-a99a-8f4069d3bef7",
   "metadata": {},
   "outputs": [],
   "source": [
    "model = KerasClassifier(build_fn = LSTM_RNN, epochs = 5, batch_size = 100 )"
   ]
  },
  {
   "cell_type": "code",
   "execution_count": 44,
   "id": "2e4d616e-3a87-4d16-9ed3-c2882d437508",
   "metadata": {},
   "outputs": [
    {
     "name": "stdout",
     "output_type": "stream",
     "text": [
      "Epoch 1/5\n",
      "WARNING:tensorflow:Model was constructed with shape (None, 49, 1) for input KerasTensor(type_spec=TensorSpec(shape=(None, 49, 1), dtype=tf.float32, name='lstm_2_input'), name='lstm_2_input', description=\"created by layer 'lstm_2_input'\"), but it was called on an input with incompatible shape (None, 2376, 1).\n",
      "WARNING:tensorflow:Model was constructed with shape (None, 49, 1) for input KerasTensor(type_spec=TensorSpec(shape=(None, 49, 1), dtype=tf.float32, name='lstm_2_input'), name='lstm_2_input', description=\"created by layer 'lstm_2_input'\"), but it was called on an input with incompatible shape (None, 2376, 1).\n",
      "90/90 [==============================] - 414s 5s/step - loss: 2.7633 - accuracy: 0.3449\n",
      "Epoch 2/5\n",
      "90/90 [==============================] - 344s 4s/step - loss: 2.4089 - accuracy: 0.3517\n",
      "Epoch 3/5\n",
      "90/90 [==============================] - 373s 4s/step - loss: 2.4073 - accuracy: 0.3517\n",
      "Epoch 4/5\n",
      "90/90 [==============================] - 338s 4s/step - loss: 2.4071 - accuracy: 0.3517\n",
      "Epoch 5/5\n",
      "90/90 [==============================] - 368s 4s/step - loss: 2.4070 - accuracy: 0.3518\n"
     ]
    },
    {
     "data": {
      "text/plain": [
       "<tensorflow.python.keras.callbacks.History at 0x1f8e6376ee0>"
      ]
     },
     "execution_count": 44,
     "metadata": {},
     "output_type": "execute_result"
    }
   ],
   "source": [
    "model.fit(x_train, y_train)"
   ]
  },
  {
   "cell_type": "code",
   "execution_count": 45,
   "id": "d8ac110d-72ac-47ea-9792-558cec65a581",
   "metadata": {},
   "outputs": [
    {
     "name": "stdout",
     "output_type": "stream",
     "text": [
      "WARNING:tensorflow:Model was constructed with shape (None, 49, 1) for input KerasTensor(type_spec=TensorSpec(shape=(None, 49, 1), dtype=tf.float32, name='lstm_2_input'), name='lstm_2_input', description=\"created by layer 'lstm_2_input'\"), but it was called on an input with incompatible shape (None, 1032, 1).\n"
     ]
    }
   ],
   "source": [
    "y_pred = model.predict(x_test)\n",
    "y_test_ = np.argmax(y_test, axis = 1)"
   ]
  },
  {
   "cell_type": "code",
   "execution_count": 46,
   "id": "88066231-6142-4f43-88b2-e0b7efadfd00",
   "metadata": {},
   "outputs": [
    {
     "name": "stdout",
     "output_type": "stream",
     "text": [
      "Accuracy:  0.3619768477292965\n"
     ]
    }
   ],
   "source": [
    "print(\"Accuracy: \", accuracy_score(y_pred, y_test_))"
   ]
  },
  {
   "cell_type": "markdown",
   "id": "07ee8ca8-4814-4ef3-a1bd-39bb4351ff2f",
   "metadata": {},
   "source": [
    "## Advance LSTM"
   ]
  },
  {
   "cell_type": "code",
   "execution_count": 50,
   "id": "c475d4bc-edde-46c5-b08c-7323f48422be",
   "metadata": {},
   "outputs": [],
   "source": [
    "def Advance_LSTM_RNN():\n",
    "    model = Sequential()\n",
    "    model.add(LSTM(50, input_shape = (49,1), return_sequences  =True))\n",
    "    model.add(LSTM(50, return_sequences = False))\n",
    "    model.add(Dense(46))\n",
    "    model.add(Activation('softmax'))\n",
    "    \n",
    "    adam_optimizer = optimizers.Adam(learning_rate = 0.001)\n",
    "    model.compile(loss = \"categorical_crossentropy\", optimizer  =adam_optimizer, metrics = ['accuracy'])\n",
    "    \n",
    "    return model"
   ]
  },
  {
   "cell_type": "code",
   "execution_count": 51,
   "id": "0e6dbc0c-842b-4819-b667-f574eb0b4a83",
   "metadata": {},
   "outputs": [],
   "source": [
    "model = KerasClassifier(build_fn  = Advance_LSTM_RNN, epochs = 5, batch_size = 100)"
   ]
  },
  {
   "cell_type": "code",
   "execution_count": 52,
   "id": "bf8322a5-103d-4980-92ae-0a44e1bc37db",
   "metadata": {},
   "outputs": [
    {
     "name": "stdout",
     "output_type": "stream",
     "text": [
      "Epoch 1/5\n",
      "WARNING:tensorflow:Model was constructed with shape (None, 49, 1) for input KerasTensor(type_spec=TensorSpec(shape=(None, 49, 1), dtype=tf.float32, name='lstm_5_input'), name='lstm_5_input', description=\"created by layer 'lstm_5_input'\"), but it was called on an input with incompatible shape (None, 2376, 1).\n",
      "WARNING:tensorflow:Model was constructed with shape (None, 49, 1) for input KerasTensor(type_spec=TensorSpec(shape=(None, 49, 1), dtype=tf.float32, name='lstm_5_input'), name='lstm_5_input', description=\"created by layer 'lstm_5_input'\"), but it was called on an input with incompatible shape (None, 2376, 1).\n",
      "90/90 [==============================] - 1804s 20s/step - loss: 2.6792 - accuracy: 0.3476\n",
      "Epoch 2/5\n",
      "90/90 [==============================] - 1748s 19s/step - loss: 2.4082 - accuracy: 0.3517\n",
      "Epoch 3/5\n",
      "90/90 [==============================] - 1738s 19s/step - loss: 2.4084 - accuracy: 0.3518\n",
      "Epoch 4/5\n",
      "90/90 [==============================] - 1759s 19s/step - loss: 2.4099 - accuracy: 0.3517\n",
      "Epoch 5/5\n",
      "90/90 [==============================] - 1803s 20s/step - loss: 2.4084 - accuracy: 0.3517\n"
     ]
    },
    {
     "data": {
      "text/plain": [
       "<tensorflow.python.keras.callbacks.History at 0x1f8f4044580>"
      ]
     },
     "execution_count": 52,
     "metadata": {},
     "output_type": "execute_result"
    }
   ],
   "source": [
    "model.fit(x_train, y_train)"
   ]
  },
  {
   "cell_type": "code",
   "execution_count": 54,
   "id": "d690de2a-4d8a-41f4-8acc-b91968e5b8b4",
   "metadata": {},
   "outputs": [
    {
     "name": "stdout",
     "output_type": "stream",
     "text": [
      "Accuracy:  0.3619768477292965\n"
     ]
    }
   ],
   "source": [
    "y_pred = model.predict(x_test)\n",
    "y_test_ = np.argmax(y_test, axis = 1)\n",
    "print(\"Accuracy: \", accuracy_score(y_pred, y_test_))"
   ]
  },
  {
   "cell_type": "code",
   "execution_count": null,
   "id": "e1fac616-e62b-4e37-93dc-b4490365d450",
   "metadata": {},
   "outputs": [],
   "source": []
  }
 ],
 "metadata": {
  "kernelspec": {
   "display_name": "Python 3",
   "language": "python",
   "name": "python3"
  },
  "language_info": {
   "codemirror_mode": {
    "name": "ipython",
    "version": 3
   },
   "file_extension": ".py",
   "mimetype": "text/x-python",
   "name": "python",
   "nbconvert_exporter": "python",
   "pygments_lexer": "ipython3",
   "version": "3.9.6"
  }
 },
 "nbformat": 4,
 "nbformat_minor": 5
}
